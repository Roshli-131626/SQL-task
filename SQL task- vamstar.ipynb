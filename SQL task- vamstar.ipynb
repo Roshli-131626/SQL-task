{
 "cells": [
  {
   "cell_type": "code",
   "execution_count": 3,
   "id": "8cc89085",
   "metadata": {},
   "outputs": [],
   "source": [
    "inputMetrics = [{\"Gender\": \"Male\", \"HeightCm\": 171, \"WeightKg\": 96},\n",
    "                {\"Gender\": \"Male\", \"HeightCm\": 161, \"WeightKg\": 85},\n",
    "                {\"Gender\": \"Male\", \"HeightCm\": 180, \"WeightKg\": 77},\n",
    "                {\"Gender\": \"Female\", \"HeightCm\": 166, \"WeightKg\": 62},\n",
    "                {\"Gender\": \"Female\", \"HeightCm\": 150, \"WeightKg\": 70},\n",
    "                {\"Gender\": \"Female\", \"HeightCm\": 167, \"WeightKg\": 82}]"
   ]
  },
  {
   "cell_type": "code",
   "execution_count": 5,
   "id": "ccdf3b8e",
   "metadata": {
    "scrolled": false
   },
   "outputs": [
    {
     "name": "stdout",
     "output_type": "stream",
     "text": [
      "{'Gender': 'Male', 'HeightCm': 171, 'WeightKg': 96}\n",
      "32.83061454806607\n",
      "{'Gender': 'Male', 'HeightCm': 161, 'WeightKg': 85}\n",
      "32.79194475521777\n",
      "{'Gender': 'Male', 'HeightCm': 180, 'WeightKg': 77}\n",
      "23.76543209876543\n",
      "{'Gender': 'Female', 'HeightCm': 166, 'WeightKg': 62}\n",
      "22.49963710262738\n",
      "{'Gender': 'Female', 'HeightCm': 150, 'WeightKg': 70}\n",
      "31.11111111111111\n",
      "{'Gender': 'Female', 'HeightCm': 167, 'WeightKg': 82}\n",
      "29.402273297715947\n",
      "{'Gender': 'Male', 'HeightCm': 171, 'WeightKg': 96, 'BMICategory': 'Moderate Obese', 'BMIRange': '30 - 34.9', 'HealthRisk': 'Medium Risk'}\n",
      "{'Gender': 'Male', 'HeightCm': 161, 'WeightKg': 85, 'BMICategory': 'Moderate Obese', 'BMIRange': '30 - 34.9', 'HealthRisk': 'Medium Risk'}\n",
      "{'Gender': 'Male', 'HeightCm': 180, 'WeightKg': 77, 'BMICategory': 'Normal weight', 'BMIRange': '18.5 - 24.9', 'HealthRisk': 'Low Risk'}\n",
      "{'Gender': 'Female', 'HeightCm': 166, 'WeightKg': 62, 'BMICategory': 'Normal weight', 'BMIRange': '18.5 - 24.9', 'HealthRisk': 'Low Risk'}\n",
      "{'Gender': 'Female', 'HeightCm': 150, 'WeightKg': 70, 'BMICategory': 'Moderate Obese', 'BMIRange': '30 - 34.9', 'HealthRisk': 'Medium Risk'}\n",
      "{'Gender': 'Female', 'HeightCm': 167, 'WeightKg': 82, 'BMICategory': 'Overweight', 'BMIRange': '25 - 29.9', 'HealthRisk': 'Enhanced Risk'}\n"
     ]
    }
   ],
   "source": [
    "for data in inputMetrics:\n",
    "    print(data)\n",
    "    bmi = data[\"WeightKg\"]/((data[\"HeightCm\"]/100)**2)\n",
    "    print(bmi)\n",
    "    if (bmi < 18.5):\n",
    "        data[\"BMICategory\"] = \"Underweight\"\n",
    "        data[\"BMIRange\"] = \"18.4 and below\"\n",
    "        data[\"HealthRisk\"] = \"Malnutrition\"\n",
    "    elif (18.5 <= bmi < 24.9):\n",
    "        data[\"BMICategory\"] = \"Normal weight\"\n",
    "        data[\"BMIRange\"] = \"18.5 - 24.9\"\n",
    "        data[\"HealthRisk\"] = \"Low Risk\"\n",
    "    elif (25 <= bmi < 29.9):\n",
    "        data[\"BMICategory\"] = \"Overweight\"\n",
    "        data[\"BMIRange\"] = \"25 - 29.9\"\n",
    "        data[\"HealthRisk\"] = \"Enhanced Risk\"\n",
    "    elif (30 <= bmi < 34.9):\n",
    "        data[\"BMICategory\"] = \"Moderate Obese\"\n",
    "        data[\"BMIRange\"] = \"30 - 34.9\"\n",
    "        data[\"HealthRisk\"] = \"Medium Risk\"\n",
    "    elif (35 <= bmi < 39.5):\n",
    "        data[\"BMICategory\"] = \"Severly Obese\"\n",
    "        data[\"BMIRange\"] = \"35 - 39.5\"\n",
    "        data[\"HealthRisk\"] = \"High Risk\"\n",
    "    elif (bmi > 40):\n",
    "        data[\"BMICategory\"] = \"Severly Obese\"\n",
    "        data[\"BMIRange\"] = \"40 and above\"\n",
    "        data[\"HealthRisk\"] = \"Very High\"\n",
    "\n",
    "for data in inputMetrics:\n",
    "    print(data)"
   ]
  },
  {
   "cell_type": "code",
   "execution_count": null,
   "id": "56608ab4",
   "metadata": {},
   "outputs": [],
   "source": []
  }
 ],
 "metadata": {
  "kernelspec": {
   "display_name": "Python 3 (ipykernel)",
   "language": "python",
   "name": "python3"
  },
  "language_info": {
   "codemirror_mode": {
    "name": "ipython",
    "version": 3
   },
   "file_extension": ".py",
   "mimetype": "text/x-python",
   "name": "python",
   "nbconvert_exporter": "python",
   "pygments_lexer": "ipython3",
   "version": "3.9.7"
  }
 },
 "nbformat": 4,
 "nbformat_minor": 5
}
